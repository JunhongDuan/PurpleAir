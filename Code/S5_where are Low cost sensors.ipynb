{
 "cells": [
  {
   "cell_type": "markdown",
   "id": "d26fb64a-8fea-465e-954a-9df1c802afe8",
   "metadata": {},
   "source": [
    "## goal\n",
    "### - 将sensor按照census tract聚合，每个census tract每天的值取均值代表这个census tract在dateX的值\n",
    "### - census package - https://pygis.io/docs/d_access_census.html"
   ]
  },
  {
   "cell_type": "code",
   "execution_count": 49,
   "id": "fabf8884-5a8a-4464-9103-f80613d7b375",
   "metadata": {},
   "outputs": [],
   "source": [
    "import matplotlib.pyplot as plt\n",
    "import pandas as pd\n",
    "import geopandas as gpd\n",
    "from census import Census\n",
    "from us import states\n",
    "import os\n",
    "import requests"
   ]
  },
  {
   "cell_type": "code",
   "execution_count": 77,
   "id": "12744f98-880c-4d0f-b0ee-2b22e65072d7",
   "metadata": {},
   "outputs": [],
   "source": [
    "c = Census(\"59c822f1e8302f7e57bbdd6d0cf1fd7649de1f0e\")\n",
    "API_KEY = '59c822f1e8302f7e57bbdd6d0cf1fd7649de1f0e'"
   ]
  },
  {
   "cell_type": "code",
   "execution_count": 65,
   "id": "736ae3ee-0e8e-472c-a432-26938c7f234a",
   "metadata": {},
   "outputs": [],
   "source": [
    "# url_profile  = 'https://api.census.gov/data/2021/acs/acs5/profile/variables.json'\n",
    "# resp_profile = requests.get(url_profile).json()\n",
    "# variables_profile = resp_profile['variables'].keys()\n",
    "# print(\"Profile tables 示例变量：\", sorted(list(variables_profile)))"
   ]
  },
  {
   "cell_type": "code",
   "execution_count": 87,
   "id": "8a4eee2e-c92a-4ab1-a34d-f8328de28188",
   "metadata": {},
   "outputs": [],
   "source": [
    "# Assign variable codes and their corresponding labels\n",
    "profile_vars = ('GEO_ID',\n",
    "             'NAME', \n",
    "             'DP05_0001E', # total population\n",
    "             'DP05_0002E', # male\n",
    "             'DP05_0003E', # female\n",
    "             'DP05_0070E', #  !!Total:!!Hispanic or Latino\n",
    "             'DP05_0077E', #  !!Total:!!Not Hispanic or Latino:!!Population of one race:!!White alone\n",
    "             'DP05_0078E', #  !!Total:!!Not Hispanic or Latino:!!Population of one race:!!Black or African American alone\n",
    "             'DP05_0079E', #  !!Total:!!Not Hispanic or Latino:!!Population of one race:!!American Indian and Alaska Native alone\n",
    "             'DP05_0080E', #  !!Total:!!Not Hispanic or Latino:!!Population of one race:!!Asian alone\n",
    "             'DP05_0081E', #  !!Total:!!Not Hispanic or Latino:!!Population of one race:!!Native Hawaiian and Other Pacific Islander alone\n",
    "             'DP05_0082E', #  !!Total:!!Not Hispanic or Latino:!!Population of one race:!!Some Other Race alone\n",
    "             'S1101_C01_001E', # Total households\n",
    "             'S1101_C01_002E', # Average household size\n",
    "             'S1101_C01_005E', # Estimate!!Total!!AGE OF OWN CHILDREN!!Households with own children of the householder under 18 years\n",
    "             'B25034_001E', # total building structures\n",
    "             'B25034_002E', # Estimate!!Total:!!Built 2014 or later\n",
    "             'B25034_003E', # Estimate!!Total:!!Built 2010 to 2013\n",
    "             'B25034_004E', # Estimate!!Total:!!Built 2000 to 2009\n",
    "             'B25034_005E', # Estimate!!Total:!!Built 1990 to 1999\n",
    "             'B25034_006E', # Estimate!!Total:!!Built 1980 to 1989\n",
    "             'B25034_007E', # Estimate!!Total:!!Built 1970 to 1979\n",
    "             'B25034_008E', # Estimate!!Total:!!Built 1960 to 1969\n",
    "             'B25034_009E', # Estimate!!Total:!!Built 1950 to 1959\n",
    "             'B25034_010E', # Estimate!!Total:!!Built 1940 to 1949\n",
    "             'B25034_011E', # Estimate!!Total:!!Built 1939 or earlier\n",
    "             'S1501_C01_012E', # Estimate!!Total!!AGE BY EDUCATIONAL ATTAINMENT!!Population 25 years and over!!Bachelor's degree\n",
    "            )\n",
    "labels =    ('GEOID_str',\n",
    "             'NAME', \n",
    "             'pop_total', \n",
    "             'male',\n",
    "             'female',\n",
    "             'hispanic',\n",
    "             'nonH_white', \n",
    "             'nonH_black', \n",
    "             'nonH_native',\n",
    "             'nonH_asian', \n",
    "             'nonH_pacific',\n",
    "             'hh_count',\n",
    "             'hh_avg_size',\n",
    "             'child_count',\n",
    "             'building_count',\n",
    "             'b_2014_',\n",
    "             'b_2010_2013',\n",
    "             'b_2000_2009',\n",
    "             'b_1990_1999',\n",
    "             'b_1980_1989',\n",
    "             'b_1970_1979',\n",
    "             'b_1960_1969',\n",
    "             'b_1950_1959',\n",
    "             'b_1940_1949',\n",
    "             'b__1939'\n",
    "            )"
   ]
  },
  {
   "cell_type": "code",
   "execution_count": 95,
   "id": "37ba676f-bb98-4a47-8051-405e5121f5b3",
   "metadata": {},
   "outputs": [
    {
     "name": "stdout",
     "output_type": "stream",
     "text": [
      "Profile status: 200\n",
      "Subject status: 200\n",
      "Detail status: 200\n"
     ]
    }
   ],
   "source": [
    "# 2021\n",
    "base = 'https://api.census.gov/data/2021/acs'\n",
    "\n",
    "state, county = states.CA.fips, '037'\n",
    "geo = f'for=tract:*&in=state:{state}%20county:{county}&key={API_KEY}'\n",
    "\n",
    "# 1) Profile: DP05_*\n",
    "prof_vars = ['GEO_ID','NAME','DP05_0001E','DP05_0002E','DP05_0003E',\n",
    "             'DP05_0070E','DP05_0077E','DP05_0078E','DP05_0079E',\n",
    "             'DP05_0080E','DP05_0081E','DP05_0082E']\n",
    "url_prof = f'{base}/acs5/profile?get={\",\".join(prof_vars)}&{geo}'\n",
    "r1 = requests.get(url_prof)\n",
    "print('Profile status:', r1.status_code)      # 应该 200\n",
    "df_prof_2021 = pd.DataFrame(r1.json()[1:], columns=r1.json()[0])\n",
    "\n",
    "# 2) Subject: S1101_… 和 S1501_…\n",
    "subj_vars = ['GEO_ID','NAME','S1101_C01_001E','S1101_C01_002E','S1101_C01_005E',\n",
    "             'S1501_C01_012E']\n",
    "url_subj = f'{base}/acs5/subject?get={\",\".join(subj_vars)}&{geo}'\n",
    "r2 = requests.get(url_subj)\n",
    "print('Subject status:', r2.status_code)\n",
    "df_subj_2021 = pd.DataFrame(r2.json()[1:], columns=r2.json()[0])\n",
    "\n",
    "# 3) Detail: B25034_001E–B25034_011E\n",
    "det_vars = ['GEO_ID', 'NAME', 'B25034_001E','B25034_002E', 'B25034_003E', 'B25034_004E', 'B25034_005E', 'B25034_006E', 'B25034_007E',\\\n",
    "           'B25034_008E', 'B25034_009E', 'B25034_010E', 'B25034_011E']\n",
    "url_det = f'{base}/acs5?get={\",\".join(det_vars)}&{geo}'\n",
    "r3 = requests.get(url_det)\n",
    "print('Detail status:', r3.status_code)\n",
    "df_det_2021 = pd.DataFrame(r3.json()[1:], columns=r3.json()[0])\n",
    "\n",
    "# 最后：按 GEO_ID 合并\n",
    "df_2021 = df_prof_2021.merge(df_subj_2021, on='GEO_ID')\\\n",
    "            .merge(df_det_2021,  on='GEO_ID')"
   ]
  },
  {
   "cell_type": "code",
   "execution_count": 97,
   "id": "f3b76d2a-621e-412d-9dcc-35e2b371b25c",
   "metadata": {},
   "outputs": [
    {
     "name": "stdout",
     "output_type": "stream",
     "text": [
      "Profile status: 200\n",
      "Subject status: 200\n",
      "Detail status: 200\n"
     ]
    }
   ],
   "source": [
    "# 2022\n",
    "base = 'https://api.census.gov/data/2022/acs'\n",
    "\n",
    "state, county = states.CA.fips, '037'\n",
    "geo = f'for=tract:*&in=state:{state}%20county:{county}&key={API_KEY}'\n",
    "\n",
    "# 1) Profile: DP05_*\n",
    "prof_vars = ['GEO_ID','NAME','DP05_0001E','DP05_0002E','DP05_0003E',\n",
    "             'DP05_0070E','DP05_0077E','DP05_0078E','DP05_0079E',\n",
    "             'DP05_0080E','DP05_0081E','DP05_0082E']\n",
    "url_prof = f'{base}/acs5/profile?get={\",\".join(prof_vars)}&{geo}'\n",
    "r1 = requests.get(url_prof)\n",
    "print('Profile status:', r1.status_code)      # 应该 200\n",
    "df_prof_2022 = pd.DataFrame(r1.json()[1:], columns=r1.json()[0])\n",
    "\n",
    "# 2) Subject: S1101_… 和 S1501_…\n",
    "subj_vars = ['GEO_ID','NAME','S1101_C01_001E','S1101_C01_002E','S1101_C01_005E',\n",
    "             'S1501_C01_012E']\n",
    "url_subj = f'{base}/acs5/subject?get={\",\".join(subj_vars)}&{geo}'\n",
    "r2 = requests.get(url_subj)\n",
    "print('Subject status:', r2.status_code)\n",
    "df_subj_2022 = pd.DataFrame(r2.json()[1:], columns=r2.json()[0])\n",
    "\n",
    "# 3) Detail: B25034_001E–B25034_011E\n",
    "det_vars = ['GEO_ID', 'NAME', 'B25034_001E','B25034_002E', 'B25034_003E', 'B25034_004E', 'B25034_005E', 'B25034_006E', 'B25034_007E',\\\n",
    "           'B25034_008E', 'B25034_009E', 'B25034_010E', 'B25034_011E']\n",
    "url_det = f'{base}/acs5?get={\",\".join(det_vars)}&{geo}'\n",
    "r3 = requests.get(url_det)\n",
    "print('Detail status:', r3.status_code)\n",
    "df_det_2022 = pd.DataFrame(r3.json()[1:], columns=r3.json()[0])\n",
    "\n",
    "# 最后：按 GEO_ID 合并\n",
    "df_2022 = df_prof_2022.merge(df_subj_2022, on='GEO_ID')\\\n",
    "            .merge(df_det_2022,  on='GEO_ID')"
   ]
  },
  {
   "cell_type": "code",
   "execution_count": 120,
   "id": "93695b55-5729-4bf3-8940-447011248c84",
   "metadata": {},
   "outputs": [
    {
     "data": {
      "text/html": [
       "<div>\n",
       "<style scoped>\n",
       "    .dataframe tbody tr th:only-of-type {\n",
       "        vertical-align: middle;\n",
       "    }\n",
       "\n",
       "    .dataframe tbody tr th {\n",
       "        vertical-align: top;\n",
       "    }\n",
       "\n",
       "    .dataframe thead th {\n",
       "        text-align: right;\n",
       "    }\n",
       "</style>\n",
       "<table border=\"1\" class=\"dataframe\">\n",
       "  <thead>\n",
       "    <tr style=\"text-align: right;\">\n",
       "      <th></th>\n",
       "      <th>Unnamed: 0</th>\n",
       "      <th>GEO_ID</th>\n",
       "      <th>NAME_x</th>\n",
       "      <th>DP05_0001E</th>\n",
       "      <th>DP05_0002E</th>\n",
       "      <th>DP05_0003E</th>\n",
       "      <th>DP05_0070E</th>\n",
       "      <th>DP05_0077E</th>\n",
       "      <th>DP05_0078E</th>\n",
       "      <th>DP05_0079E</th>\n",
       "      <th>...</th>\n",
       "      <th>B25034_006E</th>\n",
       "      <th>B25034_007E</th>\n",
       "      <th>B25034_008E</th>\n",
       "      <th>B25034_009E</th>\n",
       "      <th>B25034_010E</th>\n",
       "      <th>B25034_011E</th>\n",
       "      <th>state</th>\n",
       "      <th>county</th>\n",
       "      <th>tract</th>\n",
       "      <th>GEOID</th>\n",
       "    </tr>\n",
       "  </thead>\n",
       "  <tbody>\n",
       "    <tr>\n",
       "      <th>0</th>\n",
       "      <td>0</td>\n",
       "      <td>1400000US06037101110</td>\n",
       "      <td>Census Tract 1011.10; Los Angeles County; Cali...</td>\n",
       "      <td>4014</td>\n",
       "      <td>1905</td>\n",
       "      <td>2109</td>\n",
       "      <td>0</td>\n",
       "      <td>174</td>\n",
       "      <td>2932</td>\n",
       "      <td>2236</td>\n",
       "      <td>...</td>\n",
       "      <td>79</td>\n",
       "      <td>119</td>\n",
       "      <td>213</td>\n",
       "      <td>516</td>\n",
       "      <td>223</td>\n",
       "      <td>328</td>\n",
       "      <td>06</td>\n",
       "      <td>037</td>\n",
       "      <td>101110</td>\n",
       "      <td>06037101110</td>\n",
       "    </tr>\n",
       "  </tbody>\n",
       "</table>\n",
       "<p>1 rows × 40 columns</p>\n",
       "</div>"
      ],
      "text/plain": [
       "   Unnamed: 0                GEO_ID  \\\n",
       "0           0  1400000US06037101110   \n",
       "\n",
       "                                              NAME_x  DP05_0001E  DP05_0002E  \\\n",
       "0  Census Tract 1011.10; Los Angeles County; Cali...        4014        1905   \n",
       "\n",
       "   DP05_0003E  DP05_0070E  DP05_0077E  DP05_0078E  DP05_0079E  ...  \\\n",
       "0        2109           0         174        2932        2236  ...   \n",
       "\n",
       "   B25034_006E  B25034_007E  B25034_008E  B25034_009E  B25034_010E  \\\n",
       "0           79          119          213          516          223   \n",
       "\n",
       "   B25034_011E state  county   tract        GEOID  \n",
       "0          328    06     037  101110  06037101110  \n",
       "\n",
       "[1 rows x 40 columns]"
      ]
     },
     "execution_count": 120,
     "metadata": {},
     "output_type": "execute_result"
    }
   ],
   "source": [
    "df_2021['state']  = df_2021['state'].astype(str).str.zfill(2)\n",
    "df_2021['county'] = df_2021['county'].astype(str).str.zfill(3)\n",
    "df_2021['tract']  = df_2021['tract'].astype(str).str.zfill(6)\n",
    "df_2021['GEOID']  = df_2021['state'] + df_2021['county'] + df_2021['tract']\n",
    "\n",
    "df_2022['state']  = df_2022['state'].astype(str).str.zfill(2)\n",
    "df_2022['county'] = df_2022['county'].astype(str).str.zfill(3)\n",
    "df_2022['tract']  = df_2022['tract'].astype(str).str.zfill(6)\n",
    "df_2022['GEOID']  = df_2022['state'] + df_2022['county'] + df_2022['tract']\n",
    "\n",
    "df_2021.to_csv('../Data/Output/census_data_extraction_2021.csv')\n",
    "df_2022.to_csv('../Data/Output/census_data_extraction_2022.csv')\n",
    "\n",
    "df_2022.head(1)"
   ]
  },
  {
   "cell_type": "code",
   "execution_count": 105,
   "id": "c8986976-4868-4beb-a71f-67dddc16bc43",
   "metadata": {},
   "outputs": [
    {
     "name": "stdout",
     "output_type": "stream",
     "text": [
      "  STATEFP COUNTYFP TRACTCE        GEOID     NAME              NAMELSAD  MTFCC  \\\n",
      "0      06      085  504321  06085504321  5043.21  Census Tract 5043.21  G5020   \n",
      "1      06      085  504410  06085504410  5044.10  Census Tract 5044.10  G5020   \n",
      "\n",
      "  FUNCSTAT    ALAND  AWATER     INTPTLAT      INTPTLON  \\\n",
      "0        S  1450237       0  +37.3931319  -121.8651427   \n",
      "1        S  1102136       0  +37.4093719  -121.8788884   \n",
      "\n",
      "                                            geometry   GEOID_int  \n",
      "0  POLYGON ((-121.87556 37.39924, -121.87535 37.3...  6085504321  \n",
      "1  POLYGON ((-121.88886 37.40758, -121.88576 37.4...  6085504410  \n",
      "Shape:  (9129, 14)\n",
      "\n",
      "The shapefile projection is: EPSG:4326\n"
     ]
    }
   ],
   "source": [
    "# census tract shapefile\n",
    "ca_tract = gpd.read_file(\"../Data/ACS/tl_2021_06_tract/tl_2021_06_tract.shp\")\n",
    "\n",
    "# https://spatialreference.org/ref/epsg/?search=4326\n",
    "ca_tract = ca_tract.to_crs(epsg = 4326) # EPSG:4326: WGS 84\n",
    "ca_tract[\"GEOID_int\"] = ca_tract[\"GEOID\"].astype(\"Int64\")\n",
    "print(ca_tract.head(2))\n",
    "print('Shape: ', ca_tract.shape)\n",
    "print(\"\\nThe shapefile projection is: {}\".format(ca_tract.crs))"
   ]
  },
  {
   "cell_type": "code",
   "execution_count": 109,
   "id": "fb6e2045-ed37-4219-b54b-0a60a0789b0b",
   "metadata": {},
   "outputs": [
    {
     "data": {
      "text/plain": [
       "STATEFP                                                     06\n",
       "COUNTYFP                                                   085\n",
       "TRACTCE                                                 504321\n",
       "GEOID                                              06085504321\n",
       "NAME                                                   5043.21\n",
       "NAMELSAD                                  Census Tract 5043.21\n",
       "MTFCC                                                    G5020\n",
       "FUNCSTAT                                                     S\n",
       "ALAND                                                  1450237\n",
       "AWATER                                                       0\n",
       "INTPTLAT                                           +37.3931319\n",
       "INTPTLON                                          -121.8651427\n",
       "geometry     POLYGON ((-121.875559 37.39924, -121.875352 37...\n",
       "GEOID_int                                           6085504321\n",
       "Name: 0, dtype: object"
      ]
     },
     "execution_count": 109,
     "metadata": {},
     "output_type": "execute_result"
    }
   ],
   "source": [
    "ca_tract.iloc[0]"
   ]
  },
  {
   "cell_type": "markdown",
   "id": "6156c429-4c2c-42c1-bfe3-9735c2b69db1",
   "metadata": {},
   "source": [
    "# where are sensors: descriptive table"
   ]
  },
  {
   "cell_type": "code",
   "execution_count": 114,
   "id": "7c924c2b-ce50-4fb3-be81-792a72c3a13b",
   "metadata": {},
   "outputs": [],
   "source": [
    "gdf_pa = gpd.read_file(\"../Data/Output/PurpleAir_after_Calibration.shp\")\n",
    "df_2021 = pd.read_csv('../Data/Output/census_data_extraction_2021.csv')\n",
    "df_2022 = pd.read_csv('../Data/Output/census_data_extraction_2022.csv')\n",
    "\n",
    "\n",
    "gdf_pa['date'] = pd.to_datetime(gdf_pa['date'])\n",
    "mask = (gdf_pa['date'] >= '2020-12-01') & (gdf_pa['date'] <= '2022-12-01')\n",
    "gdf_pa = gdf_pa.loc[mask].copy()\n",
    "\n",
    "# join sensor data with census geoid\n",
    "gdf_pa = gdf_pa.to_crs(ca_tract.crs)\n",
    "gdf_pa = gpd.sjoin(gdf_pa, ca_tract[['GEOID','geometry']], how = 'left', predicate = 'within')\n",
    "\n",
    "# define year period:\n",
    "def assign_year(d):\n",
    "    return 2021 if d <= pd.Timestamp('2021-12-31') else 2022\n",
    "gdf_pa['year_period'] = gdf_pa['date'].apply(assign_year)"
   ]
  },
  {
   "cell_type": "code",
   "execution_count": 134,
   "id": "3a459318-d1dc-4bf8-b15c-a68aeb153bf1",
   "metadata": {},
   "outputs": [
    {
     "data": {
      "text/plain": [
       "Index(['Unnamed_ 0', 'sensor_id', 'date', 'time_stamp', 'rssi', 'uptime_x',\n",
       "       'pa_latency', 'humidity_a', 'humidity_b', 'temperatur', 'temperat_1',\n",
       "       'pressure_a', 'pressure_b', 'voc_a', 'voc_b', 'pm2.5_atm_',\n",
       "       'pm2.5_at_1', 'pm10.0_atm', 'pm10.0_a_1', 'sensor_ind', 'date_creat',\n",
       "       'location_t', 'model', 'uptime_y', 'position_r', 'latitude',\n",
       "       'longitude', 'altitude', 'confidence', 'pm25_avg', 'PurpleAir_',\n",
       "       'PurpleAi_1', 'PurpleAi_2', 'PA_PM25_ca', 'PA_PM25__1', 'diff_05',\n",
       "       'diff_025', 'geometry', 'index_right', 'GEOID', 'year_period'],\n",
       "      dtype='object')"
      ]
     },
     "execution_count": 134,
     "metadata": {},
     "output_type": "execute_result"
    }
   ],
   "source": [
    "gdf_pa.columns"
   ]
  },
  {
   "cell_type": "code",
   "execution_count": 136,
   "id": "f0b754a8-828f-46b5-8d0a-d07ed35417f7",
   "metadata": {},
   "outputs": [],
   "source": [
    "gdf_pa.columns = ['Unnamed_ 0', 'sensor_id', 'date', 'time_stamp', 'rssi', 'uptime_x',\n",
    "               'pa_latency', 'humidity_a', 'humidity_b', 'temperatur', 'temperat_1',\n",
    "               'pressure_a', 'pressure_b', 'voc_a', 'voc_b', 'pm2.5_atm_',\n",
    "               'pm2.5_at_1', 'pm10.0_atm', 'pm10.0_a_1', 'sensor_ind', 'date_creat',\n",
    "               'location_t', 'model', 'uptime_y', 'position_r', 'latitude',\n",
    "               'longitude', 'altitude', 'confidence', 'pm25_avg', 'PA_PM25',\n",
    "               'PA_RH', 'PA_T', 'PA_PM25cali_025', 'PA_PM25cali_05', 'diff_05',\n",
    "               'diff_025', 'geometry', 'index_right', 'GEOID', 'year_period']"
   ]
  },
  {
   "cell_type": "code",
   "execution_count": 138,
   "id": "82c25a0a-206c-4f25-812a-b30c77145eb9",
   "metadata": {},
   "outputs": [
    {
     "data": {
      "text/plain": [
       "Index(['Unnamed_ 0', 'sensor_id', 'date', 'time_stamp', 'rssi', 'uptime_x',\n",
       "       'pa_latency', 'humidity_a', 'humidity_b', 'temperatur', 'temperat_1',\n",
       "       'pressure_a', 'pressure_b', 'voc_a', 'voc_b', 'pm2.5_atm_',\n",
       "       'pm2.5_at_1', 'pm10.0_atm', 'pm10.0_a_1', 'sensor_ind', 'date_creat',\n",
       "       'location_t', 'model', 'uptime_y', 'position_r', 'latitude',\n",
       "       'longitude', 'altitude', 'confidence', 'pm25_avg', 'PA_PM25', 'PA_RH',\n",
       "       'PA_T', 'PA_PM25cali_025', 'PA_PM25cali_05', 'diff_05', 'diff_025',\n",
       "       'geometry', 'index_right', 'GEOID', 'year_period', 'Unnamed: 0',\n",
       "       'GEO_ID', 'NAME_x', 'DP05_0001E', 'DP05_0002E', 'DP05_0003E',\n",
       "       'DP05_0070E', 'DP05_0077E', 'DP05_0078E', 'DP05_0079E', 'DP05_0080E',\n",
       "       'DP05_0081E', 'DP05_0082E', 'state_x', 'county_x', 'tract_x', 'NAME_y',\n",
       "       'S1101_C01_001E', 'S1101_C01_002E', 'S1101_C01_005E', 'S1501_C01_012E',\n",
       "       'state_y', 'county_y', 'tract_y', 'NAME', 'B25034_001E', 'B25034_002E',\n",
       "       'B25034_003E', 'B25034_004E', 'B25034_005E', 'B25034_006E',\n",
       "       'B25034_007E', 'B25034_008E', 'B25034_009E', 'B25034_010E',\n",
       "       'B25034_011E', 'state', 'county', 'tract'],\n",
       "      dtype='object')"
      ]
     },
     "execution_count": 138,
     "metadata": {},
     "output_type": "execute_result"
    }
   ],
   "source": [
    "# join census to sensor\n",
    "gdf_pa_2021 = gdf_pa[gdf_pa['year_period'] == 2021]\n",
    "gdf_pa_2022 = gdf_pa[gdf_pa['year_period'] == 2022]\n",
    "sensor_2021_census = gdf_pa_2021.merge(df_2021, on = 'GEOID', how = 'left')\n",
    "sensor_2022_census = gdf_pa_2022.merge(df_2022, on = 'GEOID', how = 'left')\n",
    "sensor_2021_census.columns"
   ]
  },
  {
   "cell_type": "code",
   "execution_count": null,
   "id": "7474ad11-fcdc-4cdf-95b6-11d8b682d59d",
   "metadata": {},
   "outputs": [],
   "source": [
    "sensor_2021_census['date'] = pd.to_datetime(sensor_2021_census['date'])\n",
    "mask_2021 = (sensor_2021_census['date'] >= '2020-12-01') & (sensor_2021_census['date'] <= '2021-12-31')\n",
    "s21 = sensor_2021_census.loc[mask_2021].copy()\n",
    "mask_2022 = (sensor_2021_census['date'] >= '2022-01-01') & (sensor_2021_census['date'] <= '2022-12-01')\n",
    "s22 = sensor_2021_census.loc[mask_2022].copy()"
   ]
  },
  {
   "cell_type": "code",
   "execution_count": null,
   "id": "97a3c935-ed13-4486-a254-76a556a5c2ff",
   "metadata": {},
   "outputs": [],
   "source": [
    "# how many active days for each sensor\n",
    "sensor_days_year = s21.groupby('sensor_id')['date'] # --------------- [change s21]\n",
    "      .agg(lambda x: x.dt.date.nunique())\n",
    "      .reset_index(name = 'active_days')\n",
    "\n",
    "# active rate = active days/ one year\n",
    "period_year_days = (pd.Timestamp('2021-12-31') - pd.Timestamp('2020-12-01')).days + 1 # ---------------- [change date]\n",
    "sensor_days_year['active_pct'] = sensor_days_year['active_days'] / period_year_days * 100\n",
    "\n",
    "feature_cols = [\n",
    "     'DP05_0001E', # total population\n",
    "     'DP05_0002E', # male\n",
    "     'DP05_0003E', # female\n",
    "     'DP05_0070E', #  !!Total:!!Hispanic or Latino\n",
    "     'DP05_0077E', #  !!Total:!!Not Hispanic or Latino:!!Population of one race:!!White alone\n",
    "     'DP05_0078E', #  !!Total:!!Not Hispanic or Latino:!!Population of one race:!!Black or African American alone\n",
    "     'DP05_0079E', #  !!Total:!!Not Hispanic or Latino:!!Population of one race:!!American Indian and Alaska Native alone\n",
    "     'DP05_0080E', #  !!Total:!!Not Hispanic or Latino:!!Population of one race:!!Asian alone\n",
    "     'DP05_0081E', #  !!Total:!!Not Hispanic or Latino:!!Population of one race:!!Native Hawaiian and Other Pacific Islander alone\n",
    "     'DP05_0082E', #  !!Total:!!Not Hispanic or Latino:!!Population of one race:!!Some Other Race alone\n",
    "     'S1101_C01_001E', # Total households\n",
    "     'S1101_C01_002E', # Average household size\n",
    "     'S1101_C01_005E', # Estimate!!Total!!AGE OF OWN CHILDREN!!Households with own children of the householder under 18 years\n",
    "     'B25034_001E', # total building structures\n",
    "     'B25034_002E', # Estimate!!Total:!!Built 2014 or later\n",
    "     'B25034_003E', # Estimate!!Total:!!Built 2010 to 2013\n",
    "     'B25034_004E', # Estimate!!Total:!!Built 2000 to 2009\n",
    "     'B25034_005E', # Estimate!!Total:!!Built 1990 to 1999\n",
    "     'B25034_006E', # Estimate!!Total:!!Built 1980 to 1989\n",
    "     'B25034_007E', # Estimate!!Total:!!Built 1970 to 1979\n",
    "     'B25034_008E', # Estimate!!Total:!!Built 1960 to 1969\n",
    "     'B25034_009E', # Estimate!!Total:!!Built 1950 to 1959\n",
    "     'B25034_010E', # Estimate!!Total:!!Built 1940 to 1949\n",
    "     'B25034_011E', # Estimate!!Total:!!Built 1939 or earlier\n",
    "     'S1501_C01_012E', # Estimate!!Total!!AGE BY EDUCATIONAL ATTAINMENT!!Population 25 years and over!!Bachelor's degree\n",
    "]\n",
    "sensor_features_year = sensor_2021_census[feature_cols]\n",
    "\n",
    "sensor_panel_year = sensor_days_year.merge(\n",
    "    sensor_features_2021,\n",
    "    on = 'sensor_id',\n",
    "    how = 'left'\n",
    ")\n",
    "\n",
    "# 7. 衍生比率指标\n",
    "sensor_panel_2021['pop_total']    = sensor_panel_2021['DP05_0001E']\n",
    "sensor_panel_2021['pct_hispanic'] = sensor_panel_2021['DP05_0070E'] / sensor_panel_2021['DP05_0001E'] * 100\n",
    "sensor_panel_2021['pct_white']    = sensor_panel_2021['DP05_0077E'] / sensor_panel_2021['DP05_0001E'] * 100\n",
    "sensor_panel_2021['pct_bach']     = sensor_panel_2021['S1501_C01_012E'] / sensor_panel_2021['DP05_0001E'] * 100\n",
    "sensor_panel_2021['hh_avg_size']  = sensor_panel_2021['S1101_C01_002E']\n",
    "\n",
    "# 查看结果\n",
    "sensor_panel_2021.head()"
   ]
  },
  {
   "cell_type": "code",
   "execution_count": null,
   "id": "a4d0fa86-04a6-40e8-893a-98aaf0703e4e",
   "metadata": {},
   "outputs": [],
   "source": [
    "agg_funcs = {\n",
    "    'sensor_id': 'nunique',\n",
    "    'active_days': ['mean', 'std'],\n",
    "    'active_pct': ['mean', 'std'],\n",
    "    'pop_total': ['mean', 'std'],\n",
    "    'pct_hispanic': ['mean', 'std'],\n",
    "    'pct_white': ['mean', 'std'],\n",
    "    'pct_bach': ['mean', 'std'],\n",
    "    'hh_avg_size': ['mean', 'std']\n",
    "}\n",
    "summary_table = (\n",
    "    sensor_panel.groupby('year_period')\n",
    "    .agg(agg_funcs)\n",
    ")\n",
    "\n",
    "summary_table.columns = ['_'.join(col) for col in summary_table.columns]\n",
    "summary_table.reset_index(inplace=True)"
   ]
  }
 ],
 "metadata": {
  "kernelspec": {
   "display_name": "Python 3 (ipykernel)",
   "language": "python",
   "name": "python3"
  },
  "language_info": {
   "codemirror_mode": {
    "name": "ipython",
    "version": 3
   },
   "file_extension": ".py",
   "mimetype": "text/x-python",
   "name": "python",
   "nbconvert_exporter": "python",
   "pygments_lexer": "ipython3",
   "version": "3.11.7"
  }
 },
 "nbformat": 4,
 "nbformat_minor": 5
}
